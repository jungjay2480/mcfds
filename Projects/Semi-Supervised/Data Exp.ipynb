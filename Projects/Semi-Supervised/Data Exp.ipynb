{
  "nbformat": 4,
  "nbformat_minor": 0,
  "metadata": {
    "colab": {
      "provenance": []
    },
    "kernelspec": {
      "name": "python3",
      "display_name": "Python 3"
    },
    "language_info": {
      "name": "python"
    },
    "widgets": {
      "application/vnd.jupyter.widget-state+json": {
        "db988281c65b48a69177a4035ad13c51": {
          "model_module": "@jupyter-widgets/controls",
          "model_name": "HBoxModel",
          "model_module_version": "1.5.0",
          "state": {
            "_dom_classes": [],
            "_model_module": "@jupyter-widgets/controls",
            "_model_module_version": "1.5.0",
            "_model_name": "HBoxModel",
            "_view_count": null,
            "_view_module": "@jupyter-widgets/controls",
            "_view_module_version": "1.5.0",
            "_view_name": "HBoxView",
            "box_style": "",
            "children": [
              "IPY_MODEL_052775fb801f4903881d66075c68b16d",
              "IPY_MODEL_9d5c59aae0ad4edbb87cba9ccb113e3c",
              "IPY_MODEL_56a3897789cb41238816970a5ddce649"
            ],
            "layout": "IPY_MODEL_1319a007e8484bd99ac4646a2cf4ec09"
          }
        },
        "052775fb801f4903881d66075c68b16d": {
          "model_module": "@jupyter-widgets/controls",
          "model_name": "HTMLModel",
          "model_module_version": "1.5.0",
          "state": {
            "_dom_classes": [],
            "_model_module": "@jupyter-widgets/controls",
            "_model_module_version": "1.5.0",
            "_model_name": "HTMLModel",
            "_view_count": null,
            "_view_module": "@jupyter-widgets/controls",
            "_view_module_version": "1.5.0",
            "_view_name": "HTMLView",
            "description": "",
            "description_tooltip": null,
            "layout": "IPY_MODEL_96b6ef3e2de34899bee17a7ecd41f711",
            "placeholder": "​",
            "style": "IPY_MODEL_9666b151aeda46db93037c7893d45ea2",
            "value": "100%"
          }
        },
        "9d5c59aae0ad4edbb87cba9ccb113e3c": {
          "model_module": "@jupyter-widgets/controls",
          "model_name": "FloatProgressModel",
          "model_module_version": "1.5.0",
          "state": {
            "_dom_classes": [],
            "_model_module": "@jupyter-widgets/controls",
            "_model_module_version": "1.5.0",
            "_model_name": "FloatProgressModel",
            "_view_count": null,
            "_view_module": "@jupyter-widgets/controls",
            "_view_module_version": "1.5.0",
            "_view_name": "ProgressView",
            "bar_style": "success",
            "description": "",
            "description_tooltip": null,
            "layout": "IPY_MODEL_adad3d1799a747c9a6f6becf2a42d7c5",
            "max": 3,
            "min": 0,
            "orientation": "horizontal",
            "style": "IPY_MODEL_2f0ad54744614dbfba44548c4a65f905",
            "value": 3
          }
        },
        "56a3897789cb41238816970a5ddce649": {
          "model_module": "@jupyter-widgets/controls",
          "model_name": "HTMLModel",
          "model_module_version": "1.5.0",
          "state": {
            "_dom_classes": [],
            "_model_module": "@jupyter-widgets/controls",
            "_model_module_version": "1.5.0",
            "_model_name": "HTMLModel",
            "_view_count": null,
            "_view_module": "@jupyter-widgets/controls",
            "_view_module_version": "1.5.0",
            "_view_name": "HTMLView",
            "description": "",
            "description_tooltip": null,
            "layout": "IPY_MODEL_191e07ca32634f559eb1dd23fcbea985",
            "placeholder": "​",
            "style": "IPY_MODEL_720525431b714295a9ed2fea14ccafbe",
            "value": " 3/3 [00:00&lt;00:00, 74.63it/s]"
          }
        },
        "1319a007e8484bd99ac4646a2cf4ec09": {
          "model_module": "@jupyter-widgets/base",
          "model_name": "LayoutModel",
          "model_module_version": "1.2.0",
          "state": {
            "_model_module": "@jupyter-widgets/base",
            "_model_module_version": "1.2.0",
            "_model_name": "LayoutModel",
            "_view_count": null,
            "_view_module": "@jupyter-widgets/base",
            "_view_module_version": "1.2.0",
            "_view_name": "LayoutView",
            "align_content": null,
            "align_items": null,
            "align_self": null,
            "border": null,
            "bottom": null,
            "display": null,
            "flex": null,
            "flex_flow": null,
            "grid_area": null,
            "grid_auto_columns": null,
            "grid_auto_flow": null,
            "grid_auto_rows": null,
            "grid_column": null,
            "grid_gap": null,
            "grid_row": null,
            "grid_template_areas": null,
            "grid_template_columns": null,
            "grid_template_rows": null,
            "height": null,
            "justify_content": null,
            "justify_items": null,
            "left": null,
            "margin": null,
            "max_height": null,
            "max_width": null,
            "min_height": null,
            "min_width": null,
            "object_fit": null,
            "object_position": null,
            "order": null,
            "overflow": null,
            "overflow_x": null,
            "overflow_y": null,
            "padding": null,
            "right": null,
            "top": null,
            "visibility": null,
            "width": null
          }
        },
        "96b6ef3e2de34899bee17a7ecd41f711": {
          "model_module": "@jupyter-widgets/base",
          "model_name": "LayoutModel",
          "model_module_version": "1.2.0",
          "state": {
            "_model_module": "@jupyter-widgets/base",
            "_model_module_version": "1.2.0",
            "_model_name": "LayoutModel",
            "_view_count": null,
            "_view_module": "@jupyter-widgets/base",
            "_view_module_version": "1.2.0",
            "_view_name": "LayoutView",
            "align_content": null,
            "align_items": null,
            "align_self": null,
            "border": null,
            "bottom": null,
            "display": null,
            "flex": null,
            "flex_flow": null,
            "grid_area": null,
            "grid_auto_columns": null,
            "grid_auto_flow": null,
            "grid_auto_rows": null,
            "grid_column": null,
            "grid_gap": null,
            "grid_row": null,
            "grid_template_areas": null,
            "grid_template_columns": null,
            "grid_template_rows": null,
            "height": null,
            "justify_content": null,
            "justify_items": null,
            "left": null,
            "margin": null,
            "max_height": null,
            "max_width": null,
            "min_height": null,
            "min_width": null,
            "object_fit": null,
            "object_position": null,
            "order": null,
            "overflow": null,
            "overflow_x": null,
            "overflow_y": null,
            "padding": null,
            "right": null,
            "top": null,
            "visibility": null,
            "width": null
          }
        },
        "9666b151aeda46db93037c7893d45ea2": {
          "model_module": "@jupyter-widgets/controls",
          "model_name": "DescriptionStyleModel",
          "model_module_version": "1.5.0",
          "state": {
            "_model_module": "@jupyter-widgets/controls",
            "_model_module_version": "1.5.0",
            "_model_name": "DescriptionStyleModel",
            "_view_count": null,
            "_view_module": "@jupyter-widgets/base",
            "_view_module_version": "1.2.0",
            "_view_name": "StyleView",
            "description_width": ""
          }
        },
        "adad3d1799a747c9a6f6becf2a42d7c5": {
          "model_module": "@jupyter-widgets/base",
          "model_name": "LayoutModel",
          "model_module_version": "1.2.0",
          "state": {
            "_model_module": "@jupyter-widgets/base",
            "_model_module_version": "1.2.0",
            "_model_name": "LayoutModel",
            "_view_count": null,
            "_view_module": "@jupyter-widgets/base",
            "_view_module_version": "1.2.0",
            "_view_name": "LayoutView",
            "align_content": null,
            "align_items": null,
            "align_self": null,
            "border": null,
            "bottom": null,
            "display": null,
            "flex": null,
            "flex_flow": null,
            "grid_area": null,
            "grid_auto_columns": null,
            "grid_auto_flow": null,
            "grid_auto_rows": null,
            "grid_column": null,
            "grid_gap": null,
            "grid_row": null,
            "grid_template_areas": null,
            "grid_template_columns": null,
            "grid_template_rows": null,
            "height": null,
            "justify_content": null,
            "justify_items": null,
            "left": null,
            "margin": null,
            "max_height": null,
            "max_width": null,
            "min_height": null,
            "min_width": null,
            "object_fit": null,
            "object_position": null,
            "order": null,
            "overflow": null,
            "overflow_x": null,
            "overflow_y": null,
            "padding": null,
            "right": null,
            "top": null,
            "visibility": null,
            "width": null
          }
        },
        "2f0ad54744614dbfba44548c4a65f905": {
          "model_module": "@jupyter-widgets/controls",
          "model_name": "ProgressStyleModel",
          "model_module_version": "1.5.0",
          "state": {
            "_model_module": "@jupyter-widgets/controls",
            "_model_module_version": "1.5.0",
            "_model_name": "ProgressStyleModel",
            "_view_count": null,
            "_view_module": "@jupyter-widgets/base",
            "_view_module_version": "1.2.0",
            "_view_name": "StyleView",
            "bar_color": null,
            "description_width": ""
          }
        },
        "191e07ca32634f559eb1dd23fcbea985": {
          "model_module": "@jupyter-widgets/base",
          "model_name": "LayoutModel",
          "model_module_version": "1.2.0",
          "state": {
            "_model_module": "@jupyter-widgets/base",
            "_model_module_version": "1.2.0",
            "_model_name": "LayoutModel",
            "_view_count": null,
            "_view_module": "@jupyter-widgets/base",
            "_view_module_version": "1.2.0",
            "_view_name": "LayoutView",
            "align_content": null,
            "align_items": null,
            "align_self": null,
            "border": null,
            "bottom": null,
            "display": null,
            "flex": null,
            "flex_flow": null,
            "grid_area": null,
            "grid_auto_columns": null,
            "grid_auto_flow": null,
            "grid_auto_rows": null,
            "grid_column": null,
            "grid_gap": null,
            "grid_row": null,
            "grid_template_areas": null,
            "grid_template_columns": null,
            "grid_template_rows": null,
            "height": null,
            "justify_content": null,
            "justify_items": null,
            "left": null,
            "margin": null,
            "max_height": null,
            "max_width": null,
            "min_height": null,
            "min_width": null,
            "object_fit": null,
            "object_position": null,
            "order": null,
            "overflow": null,
            "overflow_x": null,
            "overflow_y": null,
            "padding": null,
            "right": null,
            "top": null,
            "visibility": null,
            "width": null
          }
        },
        "720525431b714295a9ed2fea14ccafbe": {
          "model_module": "@jupyter-widgets/controls",
          "model_name": "DescriptionStyleModel",
          "model_module_version": "1.5.0",
          "state": {
            "_model_module": "@jupyter-widgets/controls",
            "_model_module_version": "1.5.0",
            "_model_name": "DescriptionStyleModel",
            "_view_count": null,
            "_view_module": "@jupyter-widgets/base",
            "_view_module_version": "1.2.0",
            "_view_name": "StyleView",
            "description_width": ""
          }
        }
      }
    }
  },
  "cells": [
    {
      "cell_type": "markdown",
      "source": [
        "This notebook is the implementation of full algorithm for SemiSupervised learning based on logistic regressions"
      ],
      "metadata": {
        "id": "DItQFoLKiyEs"
      }
    },
    {
      "cell_type": "code",
      "source": [
        "pip install datasets"
      ],
      "metadata": {
        "colab": {
          "base_uri": "https://localhost:8080/"
        },
        "id": "eMMddSrwj2C2",
        "outputId": "4c71b361-78dc-4b2a-8d76-671e3f90d2de"
      },
      "execution_count": null,
      "outputs": [
        {
          "output_type": "stream",
          "name": "stdout",
          "text": [
            "Looking in indexes: https://pypi.org/simple, https://us-python.pkg.dev/colab-wheels/public/simple/\n",
            "Requirement already satisfied: datasets in /usr/local/lib/python3.9/dist-packages (2.11.0)\n",
            "Requirement already satisfied: dill<0.3.7,>=0.3.0 in /usr/local/lib/python3.9/dist-packages (from datasets) (0.3.6)\n",
            "Requirement already satisfied: responses<0.19 in /usr/local/lib/python3.9/dist-packages (from datasets) (0.18.0)\n",
            "Requirement already satisfied: pyyaml>=5.1 in /usr/local/lib/python3.9/dist-packages (from datasets) (6.0)\n",
            "Requirement already satisfied: pandas in /usr/local/lib/python3.9/dist-packages (from datasets) (1.4.4)\n",
            "Requirement already satisfied: huggingface-hub<1.0.0,>=0.11.0 in /usr/local/lib/python3.9/dist-packages (from datasets) (0.13.4)\n",
            "Requirement already satisfied: xxhash in /usr/local/lib/python3.9/dist-packages (from datasets) (3.2.0)\n",
            "Requirement already satisfied: packaging in /usr/local/lib/python3.9/dist-packages (from datasets) (23.0)\n",
            "Requirement already satisfied: multiprocess in /usr/local/lib/python3.9/dist-packages (from datasets) (0.70.14)\n",
            "Requirement already satisfied: requests>=2.19.0 in /usr/local/lib/python3.9/dist-packages (from datasets) (2.27.1)\n",
            "Requirement already satisfied: numpy>=1.17 in /usr/local/lib/python3.9/dist-packages (from datasets) (1.22.4)\n",
            "Requirement already satisfied: tqdm>=4.62.1 in /usr/local/lib/python3.9/dist-packages (from datasets) (4.65.0)\n",
            "Requirement already satisfied: fsspec[http]>=2021.11.1 in /usr/local/lib/python3.9/dist-packages (from datasets) (2023.3.0)\n",
            "Requirement already satisfied: pyarrow>=8.0.0 in /usr/local/lib/python3.9/dist-packages (from datasets) (9.0.0)\n",
            "Requirement already satisfied: aiohttp in /usr/local/lib/python3.9/dist-packages (from datasets) (3.8.4)\n",
            "Requirement already satisfied: yarl<2.0,>=1.0 in /usr/local/lib/python3.9/dist-packages (from aiohttp->datasets) (1.8.2)\n",
            "Requirement already satisfied: frozenlist>=1.1.1 in /usr/local/lib/python3.9/dist-packages (from aiohttp->datasets) (1.3.3)\n",
            "Requirement already satisfied: aiosignal>=1.1.2 in /usr/local/lib/python3.9/dist-packages (from aiohttp->datasets) (1.3.1)\n",
            "Requirement already satisfied: async-timeout<5.0,>=4.0.0a3 in /usr/local/lib/python3.9/dist-packages (from aiohttp->datasets) (4.0.2)\n",
            "Requirement already satisfied: charset-normalizer<4.0,>=2.0 in /usr/local/lib/python3.9/dist-packages (from aiohttp->datasets) (2.0.12)\n",
            "Requirement already satisfied: attrs>=17.3.0 in /usr/local/lib/python3.9/dist-packages (from aiohttp->datasets) (22.2.0)\n",
            "Requirement already satisfied: multidict<7.0,>=4.5 in /usr/local/lib/python3.9/dist-packages (from aiohttp->datasets) (6.0.4)\n",
            "Requirement already satisfied: filelock in /usr/local/lib/python3.9/dist-packages (from huggingface-hub<1.0.0,>=0.11.0->datasets) (3.10.7)\n",
            "Requirement already satisfied: typing-extensions>=3.7.4.3 in /usr/local/lib/python3.9/dist-packages (from huggingface-hub<1.0.0,>=0.11.0->datasets) (4.5.0)\n",
            "Requirement already satisfied: urllib3<1.27,>=1.21.1 in /usr/local/lib/python3.9/dist-packages (from requests>=2.19.0->datasets) (1.26.15)\n",
            "Requirement already satisfied: certifi>=2017.4.17 in /usr/local/lib/python3.9/dist-packages (from requests>=2.19.0->datasets) (2022.12.7)\n",
            "Requirement already satisfied: idna<4,>=2.5 in /usr/local/lib/python3.9/dist-packages (from requests>=2.19.0->datasets) (3.4)\n",
            "Requirement already satisfied: python-dateutil>=2.8.1 in /usr/local/lib/python3.9/dist-packages (from pandas->datasets) (2.8.2)\n",
            "Requirement already satisfied: pytz>=2020.1 in /usr/local/lib/python3.9/dist-packages (from pandas->datasets) (2022.7.1)\n",
            "Requirement already satisfied: six>=1.5 in /usr/local/lib/python3.9/dist-packages (from python-dateutil>=2.8.1->pandas->datasets) (1.16.0)\n"
          ]
        }
      ]
    },
    {
      "cell_type": "code",
      "execution_count": null,
      "metadata": {
        "id": "THDC3pSsisHf"
      },
      "outputs": [],
      "source": [
        "import numpy as np\n",
        "from sklearn.linear_model import LogisticRegression\n",
        "from sklearn.feature_extraction.text import CountVectorizer\n",
        "from datasets import load_dataset\n",
        "import matplotlib.pyplot as plt"
      ]
    },
    {
      "cell_type": "code",
      "source": [
        "print(load_dataset(\"imdb\"))"
      ],
      "metadata": {
        "colab": {
          "base_uri": "https://localhost:8080/",
          "height": 337,
          "referenced_widgets": [
            "db988281c65b48a69177a4035ad13c51",
            "052775fb801f4903881d66075c68b16d",
            "9d5c59aae0ad4edbb87cba9ccb113e3c",
            "56a3897789cb41238816970a5ddce649",
            "1319a007e8484bd99ac4646a2cf4ec09",
            "96b6ef3e2de34899bee17a7ecd41f711",
            "9666b151aeda46db93037c7893d45ea2",
            "adad3d1799a747c9a6f6becf2a42d7c5",
            "2f0ad54744614dbfba44548c4a65f905",
            "191e07ca32634f559eb1dd23fcbea985",
            "720525431b714295a9ed2fea14ccafbe"
          ]
        },
        "id": "rNR6rgxuPEgC",
        "outputId": "be1b345d-03de-446e-ba41-1369ddbe1db3"
      },
      "execution_count": null,
      "outputs": [
        {
          "output_type": "stream",
          "name": "stderr",
          "text": [
            "WARNING:datasets.builder:Found cached dataset imdb (/root/.cache/huggingface/datasets/imdb/plain_text/1.0.0/d613c88cf8fa3bab83b4ded3713f1f74830d1100e171db75bbddb80b3345c9c0)\n"
          ]
        },
        {
          "output_type": "display_data",
          "data": {
            "text/plain": [
              "  0%|          | 0/3 [00:00<?, ?it/s]"
            ],
            "application/vnd.jupyter.widget-view+json": {
              "version_major": 2,
              "version_minor": 0,
              "model_id": "db988281c65b48a69177a4035ad13c51"
            }
          },
          "metadata": {}
        },
        {
          "output_type": "stream",
          "name": "stdout",
          "text": [
            "DatasetDict({\n",
            "    train: Dataset({\n",
            "        features: ['text', 'label'],\n",
            "        num_rows: 25000\n",
            "    })\n",
            "    test: Dataset({\n",
            "        features: ['text', 'label'],\n",
            "        num_rows: 25000\n",
            "    })\n",
            "    unsupervised: Dataset({\n",
            "        features: ['text', 'label'],\n",
            "        num_rows: 50000\n",
            "    })\n",
            "})\n"
          ]
        }
      ]
    },
    {
      "cell_type": "code",
      "source": [
        "#the percentages of labeled data and unlabeled data are subject to change\n",
        "#2% of the training data (500) is labeled training\n",
        "#the purpose of this decreased size is to simulate the environment of semi-supervised learning\n",
        "imdb_train_labeled = load_dataset(\"imdb\", split='train[:2%]+train[-2%:]')\n",
        "#the whole unsupervised data set is unlabeled training\n",
        "#imdb_train_unlabeled = load_dataset(\"imdb\", split='train[10%:90%]')\n",
        "imdb_train_unlabeled = load_dataset(\"imdb\", split='unsupervised[40%:60%]')\n",
        "#the test dataset\n",
        "imdb_test = load_dataset(\"imdb\", split='test[:5%]+test[-5%:]')"
      ],
      "metadata": {
        "colab": {
          "base_uri": "https://localhost:8080/"
        },
        "id": "mnEydvEcjFRP",
        "outputId": "e19bd7da-a9ad-406a-f723-9f15a1c4adfa"
      },
      "execution_count": null,
      "outputs": [
        {
          "output_type": "stream",
          "name": "stderr",
          "text": [
            "WARNING:datasets.builder:Found cached dataset imdb (/root/.cache/huggingface/datasets/imdb/plain_text/1.0.0/d613c88cf8fa3bab83b4ded3713f1f74830d1100e171db75bbddb80b3345c9c0)\n",
            "WARNING:datasets.builder:Found cached dataset imdb (/root/.cache/huggingface/datasets/imdb/plain_text/1.0.0/d613c88cf8fa3bab83b4ded3713f1f74830d1100e171db75bbddb80b3345c9c0)\n",
            "WARNING:datasets.builder:Found cached dataset imdb (/root/.cache/huggingface/datasets/imdb/plain_text/1.0.0/d613c88cf8fa3bab83b4ded3713f1f74830d1100e171db75bbddb80b3345c9c0)\n"
          ]
        }
      ]
    },
    {
      "cell_type": "code",
      "source": [
        "print(imdb_train_labeled)\n",
        "print(imdb_train_unlabeled)\n",
        "print(imdb_test)"
      ],
      "metadata": {
        "colab": {
          "base_uri": "https://localhost:8080/"
        },
        "id": "Qkz04rCdFL_W",
        "outputId": "c4731161-92fc-45fa-f669-033925ad74ee"
      },
      "execution_count": null,
      "outputs": [
        {
          "output_type": "stream",
          "name": "stdout",
          "text": [
            "Dataset({\n",
            "    features: ['text', 'label'],\n",
            "    num_rows: 1000\n",
            "})\n",
            "Dataset({\n",
            "    features: ['text', 'label'],\n",
            "    num_rows: 10000\n",
            "})\n",
            "Dataset({\n",
            "    features: ['text', 'label'],\n",
            "    num_rows: 2500\n",
            "})\n"
          ]
        }
      ]
    },
    {
      "cell_type": "code",
      "source": [
        "# split the data into text and labels\n",
        "train_data_l = imdb_train_labeled[\"text\"]\n",
        "train_labels_l = imdb_train_labeled[\"label\"]\n",
        "\n",
        "train_data_u = imdb_train_unlabeled[\"text\"]\n",
        "#unlabeled data should not have labels\n",
        "#train_labels_u = imdb_train_unlabeled[\"label\"]\n",
        "\n",
        "test_data = imdb_test[\"text\"]\n",
        "test_labels = imdb_test[\"label\"]"
      ],
      "metadata": {
        "id": "z5K6m5_0HqO0"
      },
      "execution_count": null,
      "outputs": []
    },
    {
      "cell_type": "code",
      "source": [
        "# convert the labels to numpy arrays for use with scikit-learn\n",
        "y_train_l = np.array(train_labels_l)\n",
        "y_test = np.array(test_labels)"
      ],
      "metadata": {
        "id": "fEBGfl77Ie33"
      },
      "execution_count": null,
      "outputs": []
    },
    {
      "cell_type": "code",
      "source": [
        "def sstc(train_data, test_data, train_labels, test_labels):\n",
        "    '''\n",
        "    This function trains a logistic regression model on the IMDB dataset and prints the accuracy on the test set using scikit-learn (LogisticRegression)\n",
        "        Parameters:\n",
        "            train_data (list): list of strings, each string is a review from the training set\n",
        "            test_data (list): list of strings, each string is a review from the test set\n",
        "            train_labels (list): list of integers, each integer is the label (0 or 1) for the corresponding review in train_data\n",
        "            test_labels (list): list of integers, each integer is the label (0 or 1) for the corresponding review in test_data\n",
        "    '''\n",
        "    # create a vectorizer object to generate feature vectors, we will use word counts as features\n",
        "    vectorization = CountVectorizer()\n",
        "    X_train = vectorization.fit_transform(train_data)\n",
        "    X_test = vectorization.transform(test_data)\n",
        "\n",
        "    # train a logistic regression model on the training set\n",
        "    model = LogisticRegression(random_state=0, max_iter=1000).fit(\n",
        "        X_train, train_labels)\n",
        "\n",
        "    # make predictions on the test data\n",
        "    y_pred = model.predict(X_test)\n",
        "\n",
        "    return np.mean(y_pred == test_labels), model"
      ],
      "metadata": {
        "id": "_PwnrqVMIzFn"
      },
      "execution_count": null,
      "outputs": []
    },
    {
      "cell_type": "code",
      "source": [
        "# initial step: fit the model to labeled data\n",
        "accuracy, model = sstc(train_data_l, test_data, y_train_l, y_test)"
      ],
      "metadata": {
        "id": "TM8RT1K9I9hH"
      },
      "execution_count": null,
      "outputs": []
    },
    {
      "cell_type": "code",
      "source": [
        "print('The initial model\\'s test accuracy is', accuracy)"
      ],
      "metadata": {
        "colab": {
          "base_uri": "https://localhost:8080/"
        },
        "id": "JUrr0bwuJSNa",
        "outputId": "24d621b5-fae4-4032-d784-1a33fb05f073"
      },
      "execution_count": null,
      "outputs": [
        {
          "output_type": "stream",
          "name": "stdout",
          "text": [
            "The initial model's test accuracy is 0.7568\n"
          ]
        }
      ]
    },
    {
      "cell_type": "code",
      "source": [
        "print(len(train_data_u))"
      ],
      "metadata": {
        "colab": {
          "base_uri": "https://localhost:8080/"
        },
        "id": "AFYw7s8v3wPD",
        "outputId": "877710dc-795b-4a5d-ae0d-26c74694a016"
      },
      "execution_count": null,
      "outputs": [
        {
          "output_type": "stream",
          "name": "stdout",
          "text": [
            "10000\n"
          ]
        }
      ]
    },
    {
      "cell_type": "code",
      "source": [
        "# track the numnber of iterations\n",
        "loop = 0\n",
        "\n",
        "prob_thrhd = 0.99\n",
        "\n",
        "train_accuracy = []\n",
        "test_accuracy = []\n",
        "unlabeled_count = []\n",
        "\n",
        "# training loop\n",
        "qualified_obs = 1000\n",
        "while (qualified_obs > 100):\n",
        "    unlabeled_count.append(len(train_data_u))\n",
        "\n",
        "    #predict probabilities for unlabeled data\n",
        "    vectorization = CountVectorizer()\n",
        "    X_train = vectorization.fit_transform(train_data_l)\n",
        "    X_unl = vectorization.transform(train_data_u)\n",
        "    predict_probs = model.predict_proba(X_unl)\n",
        "\n",
        "    #append high confidence data to labeled dataset\n",
        "    high_con = 0\n",
        "    drop = []\n",
        "    for i in range(len(predict_probs)):\n",
        "      if predict_probs[i,0] >= prob_thrhd:\n",
        "        train_data_l.append(train_data_u[i])\n",
        "        train_labels_l.append(0)\n",
        "        drop.append(i)\n",
        "        high_con += 1\n",
        "      elif predict_probs[i,1] >= prob_thrhd:\n",
        "        train_data_l.append(train_data_u[i])\n",
        "        train_labels_l.append(1)\n",
        "        drop.append(i)\n",
        "        high_con += 1\n",
        "    qualified_obs = high_con\n",
        "    print('Iteration:', loop)\n",
        "    print(qualified_obs, 'unlabeled data added to labeled dataset')\n",
        "\n",
        "    #delete high confidence data from unlabeled dataset\n",
        "    for index in sorted(drop, reverse=True):\n",
        "        train_data_u.pop(index)\n",
        "    print(len(train_data_u), 'unlabeled data remaining')\n",
        "\n",
        "    #fit the model using the new labeled data\n",
        "    vectorization = CountVectorizer()\n",
        "    X_train = vectorization.fit_transform(train_data_l)\n",
        "    X_test = vectorization.transform(test_data)\n",
        "    model = LogisticRegression(random_state=0, max_iter=1000).fit(\n",
        "        X_train, train_labels_l)\n",
        "\n",
        "    # make predictions on the test data\n",
        "    y_test_pred = model.predict(X_test)\n",
        "    y_train_pred = model.predict(X_train)\n",
        "    test_accu = np.mean(y_test_pred == test_labels)\n",
        "    train_accu = np.mean(y_train_pred == train_labels_l)\n",
        "    print('The train accuracy is', train_accu)\n",
        "    print('The test accuracy is', test_accu)\n",
        "    train_accuracy.append(train_accu)\n",
        "    test_accuracy.append(test_accu)\n",
        "\n",
        "    loop += 1"
      ],
      "metadata": {
        "id": "TS5nfcvGSsB4"
      },
      "execution_count": null,
      "outputs": []
    },
    {
      "cell_type": "code",
      "source": [
        "plt.plot(range(loop), test_accuracy)\n",
        "plt.ylabel('Test Accuracy')\n",
        "plt.xlabel('Iterations')"
      ],
      "metadata": {
        "id": "Z-g-6s7j-E9D"
      },
      "execution_count": null,
      "outputs": []
    },
    {
      "cell_type": "code",
      "source": [
        "plt.bar(range(loop), unlabeled_count)\n",
        "plt.ylabel('Unlabeled data remaining')\n",
        "plt.xlabel('Iterations')"
      ],
      "metadata": {
        "id": "uo32i03V_a-J"
      },
      "execution_count": null,
      "outputs": []
    },
    {
      "cell_type": "code",
      "source": [],
      "metadata": {
        "id": "iGr8Eov4H3LJ"
      },
      "execution_count": null,
      "outputs": []
    }
  ]
}