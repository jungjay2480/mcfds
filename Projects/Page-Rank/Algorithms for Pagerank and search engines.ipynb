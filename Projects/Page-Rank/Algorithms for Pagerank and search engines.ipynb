{
 "cells": [
  {
   "cell_type": "code",
   "execution_count": 4,
   "id": "354ffc36-d773-4c4d-9de8-62ee093b45a8",
   "metadata": {},
   "outputs": [],
   "source": [
    "# Import necessary libraries:\n",
    "# We import numpy for numerical operations and scipy.sparse for sparse matrix handling.\n",
    "import numpy as np\n",
    "from scipy.sparse import csr_matrix, dok_matrix\n",
    "\n",
    "# This function creates a transition matrix from the given link structure. It initializes a sparse matrix transition_matrix with the shape (num_nodes, num_nodes) \n",
    "# and iterates through the provided links. For each link, it calculates the transition probability (number of outbound links) and populates the transition matrix. \n",
    "# Finally, the function converts the sparse matrix to a Compressed Sparse Row (CSR) format for efficient matrix operations and returns it.\n",
    "def create_transition_matrix(links, num_nodes):\n",
    "    # Initialize a sparse matrix to store the transition probabilities\n",
    "    transition_matrix = dok_matrix((num_nodes, num_nodes), dtype=np.float32)\n",
    "    \n",
    "    # Populate the transition matrix with the probabilities based on outbound links\n",
    "    for from_node, to_nodes in links.items():\n",
    "        num_outbound_links = len(to_nodes)\n",
    "        for to_node in to_nodes:\n",
    "            transition_matrix[to_node, from_node] = 1 / num_outbound_links\n",
    "\n",
    "    # Convert to CSR format for efficient matrix operations\n",
    "    return transition_matrix.tocsr()"
   ]
  },
  {
   "cell_type": "code",
   "execution_count": 5,
   "id": "abb0b35b-22d3-4393-a537-53301df76de8",
   "metadata": {},
   "outputs": [],
   "source": [
    "# This function computes the PageRank vector for the given transition matrix. It takes the following parameters:\n",
    "# transition_matrix: The transition matrix created earlier.\n",
    "# damping_factor: A damping factor, usually set to 0.85, which accounts for random jumps between nodes.\n",
    "# max_iterations: The maximum number of iterations allowed for the iterative eigenvector computation.\n",
    "# tol: The tolerance level to determine convergence.\n",
    "# The function initializes a rank vector with equal probabilities for each node and identifies dangling nodes (nodes with no outbound links). It then iteratively \n",
    "# updates the rank vector using the power method until the difference between the current rank vector and the previous rank vector is less than the tolerance or the\n",
    "# maximum number of iterations is reached. The rank vector is normalized at each step, and the damping factor is applied to account for random jumps between nodes.\n",
    "\n",
    "def page_rank(transition_matrix, num_nodes, damping_factor=0.85, max_iterations=100, tol=1e-6):\n",
    "    # Initialize the rank vector with equal probabilities for each node\n",
    "    rank_vector = np.ones(num_nodes) / num_nodes\n",
    "    \n",
    "    # Identify dangling nodes (nodes with no outbound links)\n",
    "    dangling_nodes = np.ravel(np.array(transition_matrix.sum(axis=0) == 0))\n",
    "\n",
    "    # Iterate until convergence or the maximum number of iterations is reached\n",
    "    for _ in range(max_iterations):\n",
    "        prev_rank_vector = rank_vector.copy()\n",
    "\n",
    "        # Update the rank vector considering dangling nodes\n",
    "        rank_vector = damping_factor * (transition_matrix @ rank_vector + np.sum(rank_vector[dangling_nodes]) / num_nodes)\n",
    "\n",
    "        # Apply the damping factor and normalize the rank vector\n",
    "        rank_vector = (1 - damping_factor) / num_nodes + rank_vector\n",
    "\n",
    "        # Check for convergence\n",
    "        if np.linalg.norm(rank_vector - prev_rank_vector) < tol:\n",
    "            break\n",
    "\n",
    "    return rank_vector"
   ]
  },
  {
   "cell_type": "code",
   "execution_count": 6,
   "id": "e50ae65d-dba4-42a2-ad7e-69250da57399",
   "metadata": {},
   "outputs": [
    {
     "name": "stdout",
     "output_type": "stream",
     "text": [
      "PageRank values: [0.21991393 0.3133772  0.42920887 0.0375    ]\n"
     ]
    }
   ],
   "source": [
    "# In the main section, the network of nodes and their outbound links is defined using a dictionary. The number of nodes is calculated, and the transition matrix is\n",
    "# created using the create_transition_matrix function. The PageRank vector is then computed using the page_rank function, and the final PageRank values are printed.\n",
    "if __name__ == \"__main__\":\n",
    "    # Define the network with node IDs as keys and lists of connected node IDs as values\n",
    "    links = {\n",
    "        0: [1, 2],\n",
    "        1: [2],\n",
    "        2: [0, 1],\n",
    "        3: [2],\n",
    "    }\n",
    "\n",
    "    # Get the number of nodes in the network\n",
    "    num_nodes = len(links)\n",
    "    \n",
    "    # Create the transition matrix from the network\n",
    "    transition_matrix = create_transition_matrix(links, num_nodes)\n",
    "    \n",
    "    # Compute the PageRank vector using the iterative method\n",
    "    rank_vector = page_rank(transition_matrix, num_nodes)\n",
    "\n",
    "    print(\"PageRank values:\", rank_vector)"
   ]
  },
  {
   "cell_type": "markdown",
   "id": "6cb8f40f-f4ab-4099-a5ce-cddc72e80a68",
   "metadata": {},
   "source": [
    "In summary, this code creates a transition matrix from a given network of nodes, computes the PageRank vector using the iterative eigenvector computation, and handles dangling nodes and random jumps using the damping factor."
   ]
  },
  {
   "cell_type": "code",
   "execution_count": null,
   "id": "a6858f0c-eb3f-407d-8b9c-8c398fea8d2e",
   "metadata": {},
   "outputs": [],
   "source": []
  }
 ],
 "metadata": {
  "kernelspec": {
   "display_name": "Python 3 (ipykernel)",
   "language": "python",
   "name": "python3"
  },
  "language_info": {
   "codemirror_mode": {
    "name": "ipython",
    "version": 3
   },
   "file_extension": ".py",
   "mimetype": "text/x-python",
   "name": "python",
   "nbconvert_exporter": "python",
   "pygments_lexer": "ipython3",
   "version": "3.9.12"
  }
 },
 "nbformat": 4,
 "nbformat_minor": 5
}
