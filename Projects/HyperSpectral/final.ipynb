{
 "cells": [
  {
   "cell_type": "code",
   "execution_count": 28,
   "metadata": {},
   "outputs": [],
   "source": [
    "import scipy.io\n",
    "import numpy as np\n",
    "from sklearn.model_selection import train_test_split\n",
    "mat = scipy.io.loadmat(\"Indian_pines.mat\")\n"
   ]
  },
  {
   "cell_type": "code",
   "execution_count": 29,
   "metadata": {},
   "outputs": [
    {
     "data": {
      "text/plain": [
       "(145, 145, 220)"
      ]
     },
     "execution_count": 29,
     "metadata": {},
     "output_type": "execute_result"
    }
   ],
   "source": [
    "mat[\"indian_pines\"].shape\n",
    "# transfer to numpy array\n",
    "data = np.array(mat[\"indian_pines\"])\n",
    "# Reshape the data into a 2D array\n",
    "n_pixels = data.shape[0] * data.shape[1]\n",
    "n_bands = data.shape[2]\n",
    "data_2d = np.reshape(data, (n_pixels, n_bands))\n",
    "data.shape"
   ]
  },
  {
   "cell_type": "code",
   "execution_count": 17,
   "metadata": {},
   "outputs": [
    {
     "data": {
      "text/plain": [
       "(21025, 220)"
      ]
     },
     "execution_count": 17,
     "metadata": {},
     "output_type": "execute_result"
    }
   ],
   "source": [
    "data_2d.shape "
   ]
  },
  {
   "cell_type": "code",
   "execution_count": 18,
   "metadata": {},
   "outputs": [],
   "source": [
    "# Split the data into training and testing sets\n",
    "X_train, X_test = train_test_split(data_2d, test_size=0.3, random_state=42)"
   ]
  },
  {
   "cell_type": "code",
   "execution_count": 21,
   "metadata": {},
   "outputs": [],
   "source": [
    "# Perform SVD on the training set\n",
    "U, s, Vt = np.linalg.svd(X_train, full_matrices=False)\n",
    "k = 10  # number of principal components to keep\n",
    "U_k = U[:, :k]\n",
    "s_k = np.diag(s[:k])\n",
    "Vt_k = Vt[:k, :]\n",
    "X_train_recon_svd = U_k @ s_k @ Vt_k\n",
    "X_test_recon_svd = U_k @ s_k @ Vt_k @ X_test.T\n",
    "\n"
   ]
  },
  {
   "cell_type": "code",
   "execution_count": 23,
   "metadata": {},
   "outputs": [
    {
     "name": "stderr",
     "output_type": "stream",
     "text": [
      "c:\\Users\\sunru\\anaconda3\\lib\\site-packages\\sklearn\\decomposition\\_nmf.py:1692: ConvergenceWarning: Maximum number of iterations 200 reached. Increase it to improve convergence.\n",
      "  warnings.warn(\n"
     ]
    }
   ],
   "source": [
    "from sklearn.decomposition import NMF\n",
    "# Perform NMF on the training set\n",
    "model = NMF(n_components=10, init='random', random_state=0)\n",
    "W = model.fit_transform(X_train)\n",
    "H = model.components_\n",
    "X_train_recon_nmf = W @ H\n",
    "X_test_recon_nmf = model.transform(X_test) @ H\n",
    "\n",
    "\n"
   ]
  },
  {
   "cell_type": "code",
   "execution_count": 25,
   "metadata": {},
   "outputs": [
    {
     "data": {
      "text/plain": [
       "(14717, 220)"
      ]
     },
     "execution_count": 25,
     "metadata": {},
     "output_type": "execute_result"
    }
   ],
   "source": [
    "X_train_recon_nmf.shape"
   ]
  },
  {
   "cell_type": "code",
   "execution_count": 26,
   "metadata": {},
   "outputs": [
    {
     "data": {
      "text/plain": [
       "(14717, 220)"
      ]
     },
     "execution_count": 26,
     "metadata": {},
     "output_type": "execute_result"
    }
   ],
   "source": [
    "X_train_recon_svd.shape"
   ]
  },
  {
   "cell_type": "code",
   "execution_count": 37,
   "metadata": {},
   "outputs": [
    {
     "data": {
      "text/plain": [
       "(array([ 0,  1,  2,  3,  4,  5,  6,  7,  8,  9, 10, 11, 12, 13, 14, 15]),\n",
       " array([ 906,  619,  860, 1466, 1399,  620, 1075, 1016,  735,  815,  952,\n",
       "        1406,  384, 1513,  860,   91], dtype=int64))"
      ]
     },
     "execution_count": 37,
     "metadata": {},
     "output_type": "execute_result"
    }
   ],
   "source": [
    "from sklearn.cluster import KMeans\n",
    "# Perform K-means clustering on the training set\n",
    "kmeans = KMeans(n_clusters=16, random_state=0).fit(X_train_recon_svd)\n",
    "X_train_recon_svd_kmeans = kmeans.predict(X_train_recon_svd)\n"
   ]
  },
  {
   "cell_type": "code",
   "execution_count": 38,
   "metadata": {},
   "outputs": [
    {
     "name": "stdout",
     "output_type": "stream",
     "text": [
      "Label 0: 906\n",
      "Label 1: 619\n",
      "Label 2: 860\n",
      "Label 3: 1466\n",
      "Label 4: 1399\n",
      "Label 5: 620\n",
      "Label 6: 1075\n",
      "Label 7: 1016\n",
      "Label 8: 735\n",
      "Label 9: 815\n",
      "Label 10: 952\n",
      "Label 11: 1406\n",
      "Label 12: 384\n",
      "Label 13: 1513\n",
      "Label 14: 860\n",
      "Label 15: 91\n"
     ]
    }
   ],
   "source": [
    "# give a list of numbers of data in each cluster\n",
    "unique_labels, counts = np.unique(X_train_recon_svd_kmeans, return_counts=True)\n",
    "# Print label counts\n",
    "for label, count in zip(unique_labels, counts):\n",
    "    print(f\"Label {label}: {count}\")"
   ]
  },
  {
   "cell_type": "code",
   "execution_count": 39,
   "metadata": {},
   "outputs": [
    {
     "name": "stdout",
     "output_type": "stream",
     "text": [
      "Label 0: 1734\n",
      "Label 1: 1012\n",
      "Label 2: 919\n",
      "Label 3: 633\n",
      "Label 4: 632\n",
      "Label 5: 1400\n",
      "Label 6: 1541\n",
      "Label 7: 1194\n",
      "Label 8: 1039\n",
      "Label 9: 709\n",
      "Label 10: 356\n",
      "Label 11: 851\n",
      "Label 12: 1012\n",
      "Label 13: 851\n",
      "Label 14: 741\n",
      "Label 15: 93\n"
     ]
    }
   ],
   "source": [
    "# Perform K-means clustering on the training set\n",
    "kmeans = KMeans(n_clusters=16, random_state=0).fit(X_train_recon_nmf)\n",
    "X_train_recon_nmf_kmeans = kmeans.predict(X_train_recon_nmf)\n",
    "\n",
    "# give a list of numbers of data in each cluster\n",
    "unique_labels, counts = np.unique(X_train_recon_nmf_kmeans, return_counts=True)\n",
    "# Print label counts\n",
    "for label, count in zip(unique_labels, counts):\n",
    "    print(f\"Label {label}: {count}\")"
   ]
  }
 ],
 "metadata": {
  "kernelspec": {
   "display_name": "base",
   "language": "python",
   "name": "python3"
  },
  "language_info": {
   "codemirror_mode": {
    "name": "ipython",
    "version": 3
   },
   "file_extension": ".py",
   "mimetype": "text/x-python",
   "name": "python",
   "nbconvert_exporter": "python",
   "pygments_lexer": "ipython3",
   "version": "3.9.12"
  },
  "orig_nbformat": 4
 },
 "nbformat": 4,
 "nbformat_minor": 2
}
